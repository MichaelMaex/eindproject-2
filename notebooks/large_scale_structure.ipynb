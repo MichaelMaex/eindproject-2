{
 "cells": [
  {
   "cell_type": "code",
   "execution_count": null,
   "metadata": {},
   "outputs": [],
   "source": []
  },
  {
   "cell_type": "code",
   "execution_count": null,
   "metadata": {},
   "outputs": [],
   "source": [
    "import numpy as np\n",
    "import sympy as sp\n",
    "from IPython.display import display\n",
    "import matplotlib as mpl\n",
    "\n",
    "import matplotlib.pyplot as plt\n",
    "sp.init_printing()\n",
    "import pandas as pd\n",
    "import pyPLUTO as pp\n",
    "from matplotlib import colors, cm\n",
    "import bachelorproject as bp\n",
    "mpl.rcParams[\"figure.dpi\"] = 480\n",
    "mpl.rcParams[\"text.usetex\"] = True\n",
    "mpl.rcParams[\"font.family\"] = \"serrif\"\n",
    "\n",
    "\n",
    "units = bp.units(UNIT_LENGTH=1.e8, UNIT_DENSITY=1.e9*bp.CONST_mp, UNIT_VELOCITY=1.e8)\n",
    "t0 = units.UNIT_TIME\n",
    "print(units.UNIT_PRESSURE)"
   ]
  },
  {
   "cell_type": "markdown",
   "metadata": {},
   "source": [
    "# Hole"
   ]
  },
  {
   "cell_type": "markdown",
   "metadata": {},
   "source": [
    "## time evolution figure"
   ]
  },
  {
   "cell_type": "code",
   "execution_count": null,
   "metadata": {},
   "outputs": [],
   "source": [
    "# Time evolution figure\n",
    "\n",
    "j = 500\n",
    "T = list(map(lambda t: int(j*t/8), range(9)))\n",
    "fig, ax, = plt.subplots(3,3, figsize = (9,8))\n",
    "\n",
    "images = [pp.pload(t, \"../pluto-definitions/large_scale_structure/hole/\") for t in T]\n",
    "im = [0]*9\n",
    "\n",
    "vmin = min(image.prs.min() for image in images)\n",
    "vmax = max(image.prs.max() for image in images)\n",
    "# vmax = 11\n",
    "norm = colors.Normalize(vmin=vmin, vmax=vmax)\n",
    "norm_true = colors.Normalize(vmin=vmin*units.UNIT_PRESSURE, vmax=vmax*units.UNIT_PRESSURE)\n",
    "\n",
    "for i in range(9):\n",
    "    axis = ax[i//3][i%3]\n",
    "    t = T[i]\n",
    "    frame = images[i]\n",
    "    im[i] = bp.plot(axis, frame.prs, frame, norm=norm, L0 = units.UNIT_LENGTH)\n",
    "    # im[i] = axis.imshow(frame.prs, norm=norm, cmap=cm.plasma)\n",
    "    axis.set_title(\"$t = {:.2e} (s)$\".format(frame.SimTime*units.UNIT_TIME))\n",
    "fig.tight_layout()\n",
    "fig.colorbar(cm.ScalarMappable(norm=norm_true, cmap=cm.plasma), ax  = ax, label = \"pressure (Ba)\")\n",
    "fig.savefig(\"../report/figures/hole_time.pdf\")\n",
    "\n",
    "print(vmin, vmax)"
   ]
  },
  {
   "cell_type": "markdown",
   "metadata": {},
   "source": [
    "# Plume"
   ]
  },
  {
   "cell_type": "markdown",
   "metadata": {},
   "source": [
    "## Time evolution figure"
   ]
  },
  {
   "cell_type": "code",
   "execution_count": null,
   "metadata": {},
   "outputs": [],
   "source": [
    "# Time evolution figure\n",
    "\n",
    "j = 500\n",
    "T = list(map(lambda t: int(j*t/8), range(9)))\n",
    "fig, ax, = plt.subplots(3,3, figsize = (9,8))\n",
    "\n",
    "images = [pp.pload(t, \"../pluto-definitions/large_scale_structure/plume/\") for t in T]\n",
    "im = [0]*9\n",
    "\n",
    "vmin = min(image.prs.min() for image in images)\n",
    "vmax = max(image.prs.max() for image in images)\n",
    "vmax =  0.004\n",
    "norm = colors.Normalize(vmin=vmin, vmax=vmax)\n",
    "norm_true = colors.Normalize(vmin=vmin*units.UNIT_PRESSURE, vmax=vmax*units.UNIT_PRESSURE)\n",
    "\n",
    "for i in range(9):\n",
    "    axis = ax[i//3][i%3]\n",
    "    t = T[i]\n",
    "    frame = images[i]\n",
    "    im[i] = bp.plot(axis, frame.prs, frame, norm=norm, L0 = units.UNIT_LENGTH)\n",
    "    # im[i] = axis.imshow(frame.prs, norm=norm, cmap=cm.plasma)\n",
    "    axis.set_title(\"$t = {:.2e} (s)$\".format(frame.SimTime*units.UNIT_TIME))\n",
    "fig.tight_layout()\n",
    "fig.colorbar(cm.ScalarMappable(norm=norm_true, cmap=cm.plasma), ax  = ax, label = \"pressure (Ba)\")\n",
    "fig.savefig(\"../report/figures/plume_time.pdf\")"
   ]
  },
  {
   "cell_type": "code",
   "execution_count": null,
   "metadata": {},
   "outputs": [],
   "source": [
    "# Time evolution figure\n",
    "xmin = int(0.4*1024)\n",
    "xmax = 1024 - xmin\n",
    "t0 = 150\n",
    "t1 = 500\n",
    "T = list(map(lambda t: int((1-t/8)*(t0) + (t/8)*(t1)), range(9)))\n",
    "fig, ax, = plt.subplots(3,3, figsize = (9,8))\n",
    "\n",
    "images = [pp.pload(t, \"../pluto-definitions/large_scale_structure/plume/\") for t in T]\n",
    "im = [0]*9\n",
    "\n",
    "vmin = min(image.prs.min() for image in images)\n",
    "vmax = max(image.prs.max() for image in images)\n",
    "vmin = 0.01\n",
    "# # vmax = 0.0029\n",
    "norm = colors.Normalize(vmin=vmin, vmax=vmax)\n",
    "norm_true = colors.Normalize(vmin=vmin*units.UNIT_PRESSURE, vmax=vmax*units.UNIT_PRESSURE)\n",
    "\n",
    "for i in range(9):\n",
    "    axis = ax[i//3][i%3]\n",
    "    t = T[i]\n",
    "    frame = images[i]\n",
    "    im[i] = bp.plot(axis, frame.prs, frame, norm=norm, L0 = units.UNIT_LENGTH, x_min = xmin, x_max = xmax, y_min = xmin, y_max = xmax )  # im[i] = axis.imshow(frame.prs, norm=norm, cmap=cm.plasma)\n",
    "    axis.set_title(\"t = {:.2e} (s)\".format(frame.SimTime*units.UNIT_TIME))\n",
    "\n",
    "fig.tight_layout()\n",
    "fig.colorbar(cm.ScalarMappable(norm=norm_true, cmap=cm.plasma), ax  = ax, label = \"pressure (Ba)\")\n",
    "fig.savefig(\"../report/figures/plume_reflection.pdf\")"
   ]
  },
  {
   "cell_type": "markdown",
   "metadata": {},
   "source": [
    "# Drive"
   ]
  },
  {
   "cell_type": "code",
   "execution_count": null,
   "metadata": {},
   "outputs": [],
   "source": [
    "def drive(t, A, d):\n",
    "    v0 = -A\n",
    "    v1 = -v0\n",
    "    v2 = 0\n",
    "    return v1 + (v0 - v1)*(0.5*(1.-np.tanh(t/20.))) + (v2 - v1)*(0.5*(1.+np.tanh((t-d)/60.)))"
   ]
  },
  {
   "cell_type": "code",
   "execution_count": null,
   "metadata": {},
   "outputs": [],
   "source": [
    "fig, ax, = plt.subplots(1, 2, figsize = (6,2.5))\n",
    "xlabel = \"time (s)\"\n",
    "t = np.linspace(0,1000,200)\n",
    "ax[0].plot(t, drive(t, 50, 600), 'k', linewidth = 0.7)\n",
    "ax[1].plot(t, drive(t, 150, 300), 'k', linewidth = 0.7)\n",
    "ax[0].set_xlabel(xlabel)\n",
    "ax[1].set_xlabel(xlabel)\n",
    "\n",
    "ax[0].set_ylabel(\"velocity (km/s)\")\n",
    "ax[0].set_title(\"hole model\")\n",
    "ax[1].set_title(\"plume model\")\n",
    "ax[0].plot([0,1000],[50,50], linewidth = 0.5, linestyle=\"--\" , color = \"k\")\n",
    "ax[0].text(850, 58, \"$v_{\\mathrm{max}}$\")\n",
    "ax[0].plot([600, 600],[0,160], linewidth = 0.5, linestyle =\"--\", color = \"k\")\n",
    "ax[0].text(550, 10,  \"$d$\")\n",
    "ax[1].plot([0,1000],[150,150], linewidth = 0.5, linestyle=\"--\" , color = \"k\")\n",
    "ax[1].text(850, 140, \"$v_{\\mathrm{max}}$\")\n",
    "ax[1].plot([300, 300],[0,160], linewidth = 0.5, linestyle =\"--\", color = \"k\")\n",
    "ax[1].text(250, 10,  \"$d$\")\n",
    "\n",
    "ax[0].set_ylim(0, 160)\n",
    "ax[1].set_ylim(0, 160)\n",
    "ax[0].set_xlim(0, 1000)\n",
    "ax[1].set_xlim(0, 1000)\n",
    "fig.tight_layout()\n",
    "fig.savefig(\"../report/figures/wave_drive.pdf\")\n",
    "# print(drive(t, 50, 600))"
   ]
  },
  {
   "cell_type": "code",
   "execution_count": null,
   "metadata": {},
   "outputs": [],
   "source": [
    "fig, ax, = plt.subplots(1, figsize = (4,3))\n",
    "xlabel = \"time (s)\"\n",
    "t = np.linspace(0,1000,200)\n",
    "ax.plot(t, drive(t, 50, 600), 'k', linewidth = 0.7)\n",
    "ax.set_xlabel(xlabel)\n",
    "\n",
    "ax.set_ylabel(\"velocity (km/s)\")\n",
    "ax.set_title(\"hole model\")\n",
    "ax.plot([0,1000],[50,50], linewidth = 0.5, linestyle=\"--\" , color = \"k\")\n",
    "ax.text(850, 53, \"$v_{\\mathrm{max}}$\")\n",
    "ax.plot([600, 600],[0,160], linewidth = 0.5, linestyle =\"--\", color = \"k\")\n",
    "ax.text(560, 10,  \"$d$\")\n",
    "\n",
    "\n",
    "ax.set_ylim(0, 70)\n",
    "ax.set_xlim(0, 1000)\n",
    "fig.tight_layout()\n",
    "fig.savefig(\"../presentation/figures/wave_drive.pdf\")\n",
    "# print(drive(t, 50, 600))"
   ]
  },
  {
   "cell_type": "markdown",
   "metadata": {},
   "source": [
    "# Determining reflection coefficient"
   ]
  },
  {
   "cell_type": "code",
   "execution_count": null,
   "metadata": {},
   "outputs": [],
   "source": [
    "import matplotlib.patches as patches\n",
    "t = [0, 200, 420]\n",
    "frame = list(map(lambda i: pp.pload(i, \"../pluto-definitions/large_scale_structure/hole/\"), t))\n",
    "energy = list(map(lambda x: calculate_energy(x), frame))\n",
    "fig, ax, = plt.subplots(1,3, figsize=(9, 3))\n",
    "for i in range(3):\n",
    "    ax[i].imshow(energy[i][100:512, :])\n",
    "\n",
    "E = list(map(lambda x: np.sum(x[100:512, :]), energy))\n",
    "\n",
    "vmin = min(image.min() for image in energy)\n",
    "vmax = max(image.max() for image in energy)\n",
    "# vmin = 0.01\n",
    "# # vmax = 0.0029\n",
    "norm = colors.Normalize(vmin=vmin, vmax=vmax)\n",
    "norm_true = colors.Normalize(vmin=vmin*units.UNIT_PRESSURE, vmax=vmax*units.UNIT_PRESSURE)\n",
    "# rect = patches.Rectangle((frame[0].x1[0]*units.UNIT_LENGTH, frame[0].x2[100]*units.UNIT_LENGTH),.5e11,.5e11,linewidth=1,ls = \"--\",edgecolor='w',facecolor='none')\n",
    "\n",
    "for i in range(3):\n",
    "    axis = ax[i]\n",
    "    bp.plot(axis, energy[i], frame[i], norm=norm, L0 = units.UNIT_LENGTH)  # im[i] = axis.imshow(frame.prs, norm=norm, cmap=cm.plasma)\n",
    "    rect = patches.Rectangle((frame[0].x1[100]*units.UNIT_LENGTH/100, frame[0].x2[0]*units.UNIT_LENGTH/100),(frame[0].x1[512] - frame[0].x1[100])*units.UNIT_LENGTH/100,(frame[0].x2[-1] - frame[0].x2[0])*units.UNIT_LENGTH/100,linewidth=2,ls = \"--\",edgecolor='w',facecolor='none')\n",
    "    axis.add_patch(rect)\n",
    "    axis.set_title(\"t = {:.2e} (s)\".format(t[i]*units.UNIT_TIME))\n",
    "    \n",
    "\n",
    "fig.tight_layout()\n",
    "fig.colorbar(cm.ScalarMappable(norm=norm, cmap=cm.plasma), ax  = ax, label = \"energy (code unit)\")\n",
    "fig.savefig(\"../presentation/figures/reflection_coefficient.pdf\")\n",
    "R = (E[2]-E[0])/(E[1]-E[0])\n",
    "print(R)"
   ]
  },
  {
   "cell_type": "code",
   "execution_count": null,
   "metadata": {},
   "outputs": [],
   "source": [
    "def calculate_energy(frame):\n",
    "    Bsq = frame.Bx1**2 + frame.Bx2**2 + frame.Bx3**2\n",
    "    vsq = frame.vx1**2 + frame.vx2**2 + frame.vx3**2\n",
    "    gamma = 5/3\n",
    "    rho_e = frame.prs/(gamma -1)\n",
    "    return Bsq/2 + frame.rho*vsq/2 + rho_e"
   ]
  },
  {
   "cell_type": "markdown",
   "metadata": {},
   "source": [
    "# Animiations"
   ]
  },
  {
   "cell_type": "code",
   "execution_count": 3,
   "metadata": {},
   "outputs": [
    
   ],
   "source": [
    "# Time evolution figure\n",
    "import matplotlib.patches as patches\n",
    "N = 500\n",
    "t = 3\n",
    "\n",
    "frame = pp.pload(t, \"../pluto-definitions/large_scale_structure/hole/\") \n",
    "\n",
    "# vmin = min(image.prs.min() for image in images)\n",
    "# vmax = max(image.prs.max() for image in images)\n",
    "vmin = 0.0015\n",
    "vmax = 0.041\n",
    "vmin_hole = 0.1\n",
    "vmax_hole = -0.005\n",
    "# vmax = 11\n",
    "norm = colors.Normalize(vmin=vmin, vmax=vmax)\n",
    "norm_true = colors.Normalize(vmin=vmin*units.UNIT_PRESSURE/10, vmax=vmax*units.UNIT_PRESSURE/10)\n",
    "norm_hole = colors.Normalize(vmin=vmin_hole, vmax=vmax_hole)\n",
    "norm_hole_true = colors.Normalize(vmin=vmin_hole*units.UNIT_PRESSURE/10, vmax=vmax_hole*units.UNIT_PRESSURE/10)\n",
    "for t in range(501):\n",
    "    print(t)\n",
    "    frame = pp.pload(t, \"../pluto-definitions/large_scale_structure/hole/\") \n",
    "\n",
    "    fig, ax, = plt.subplots(1,2, figsize = (8, 4))\n",
    "    circ = patches.Circle((0, 0), 150*1.e6, linewidth=2,ls = \"--\",edgecolor='w',facecolor='none')\n",
    "    im = bp.plot(ax[0], frame.prs, frame, norm=norm, L0 = units.UNIT_LENGTH)\n",
    "    im2 = bp.plot(ax[1], frame.vx1, frame,  L0 = units.UNIT_LENGTH, norm = norm_hole, x_min = int(.4*1024), x_max = int(.6*1024), \n",
    "    y_min = int(.4*1024), y_max = int(.6*1024))\n",
    "    ax[1].add_patch(circ)\n",
    "    fig.colorbar(cm.ScalarMappable(norm=norm_true, cmap=cm.plasma), ax  = ax[0], label = \"pressure (Ba)\")\n",
    "    fig.colorbar(cm.ScalarMappable(norm=norm_hole, cmap=cm.plasma), ax  = ax[1],  label = \"$v_x$ (Km/s)\")\n",
    "    fig.tight_layout()\n",
    "    fig.savefig(\"../animations/hole/hole{:04d}.png\".format(t))"
   ]
  },
  {
   "cell_type": "code",
   "execution_count": null,
   "metadata": {},
   "outputs": [],
   "source": []
  }
 ],
 "metadata": {
  "language_info": {
   "name": "python",
   "codemirror_mode": {
    "name": "ipython",
    "version": 3
   },
   "version": "3.7.6-final"
  },
  "orig_nbformat": 2,
  "file_extension": ".py",
  "mimetype": "text/x-python",
  "name": "python",
  "npconvert_exporter": "python",
  "pygments_lexer": "ipython3",
  "version": 3,
  "kernelspec": {
   "name": "python37664bitbasecondab825661c476d4686be0944dca373af3a",
   "display_name": "Python 3.7.6 64-bit ('base': conda)"
  }
 },
 "nbformat": 4,
 "nbformat_minor": 2
}